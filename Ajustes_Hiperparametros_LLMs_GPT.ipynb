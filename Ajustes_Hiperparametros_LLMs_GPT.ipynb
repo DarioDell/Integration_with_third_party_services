{
  "nbformat": 4,
  "nbformat_minor": 0,
  "metadata": {
    "colab": {
      "provenance": [],
      "gpuType": "T4",
      "include_colab_link": true
    },
    "kernelspec": {
      "name": "python3",
      "display_name": "Python 3"
    },
    "language_info": {
      "name": "python"
    },
    "accelerator": "GPU"
  },
  "cells": [
    {
      "cell_type": "markdown",
      "metadata": {
        "id": "view-in-github",
        "colab_type": "text"
      },
      "source": [
        "<a href=\"https://colab.research.google.com/github/DarioDell/Integration_with_third_party_services/blob/main/Ajustes_Hiperparametros_LLMs_GPT.ipynb\" target=\"_parent\"><img src=\"https://colab.research.google.com/assets/colab-badge.svg\" alt=\"Open In Colab\"/></a>"
      ]
    },
    {
      "cell_type": "markdown",
      "metadata": {
        "id": "3cb7b12c"
      },
      "source": [
        "# Hiperparámetros de los LLMs (GPT)"
      ]
    },
    {
      "cell_type": "markdown",
      "metadata": {
        "id": "42e9ea52"
      },
      "source": [
        "<div style=\"background-color:#D9EEFF;color:black;padding:2%;\">\n",
        "<h2>Caso en cuestión</h2>\n",
        "\n",
        "En este caso se realizarán pruebas modificando los hiperparámetros del LLM GPT-3.5-Turbo, de igual manera que con GPT-4, para observar y comparar los distintos resultados.<br>\n",
        "**Hiperparámetros** hace referencia a aquellas opciones de configuración que se pueden aplicar sobre un modelo de Machine Learning que ya ha sido entrenado. Mientras que **Parámetros** hace referencia a aquellos parámetros matemáticos que se van ajustando durante el proceso de entrenamiento.\n",
        "</div>"
      ]
    },
    {
      "cell_type": "markdown",
      "metadata": {
        "id": "831d29b1"
      },
      "source": [
        "# Resolución del caso práctico"
      ]
    },
    {
      "cell_type": "markdown",
      "source": [
        "## 0. Instalación de librerías externas"
      ],
      "metadata": {
        "id": "-V8dgd_BUeOK"
      }
    },
    {
      "cell_type": "code",
      "source": [
        "!pip install openai==0.28"
      ],
      "metadata": {
        "id": "ScQcgtCkUhD7",
        "colab": {
          "base_uri": "https://localhost:8080/"
        },
        "outputId": "123d5029-186a-44eb-f6d1-1a2c09fb5898"
      },
      "execution_count": null,
      "outputs": [
        {
          "output_type": "stream",
          "name": "stdout",
          "text": [
            "Collecting openai==0.28\n",
            "  Downloading openai-0.28.0-py3-none-any.whl.metadata (13 kB)\n",
            "Requirement already satisfied: requests>=2.20 in /usr/local/lib/python3.10/dist-packages (from openai==0.28) (2.32.3)\n",
            "Requirement already satisfied: tqdm in /usr/local/lib/python3.10/dist-packages (from openai==0.28) (4.67.1)\n",
            "Requirement already satisfied: aiohttp in /usr/local/lib/python3.10/dist-packages (from openai==0.28) (3.11.10)\n",
            "Requirement already satisfied: charset-normalizer<4,>=2 in /usr/local/lib/python3.10/dist-packages (from requests>=2.20->openai==0.28) (3.4.0)\n",
            "Requirement already satisfied: idna<4,>=2.5 in /usr/local/lib/python3.10/dist-packages (from requests>=2.20->openai==0.28) (3.10)\n",
            "Requirement already satisfied: urllib3<3,>=1.21.1 in /usr/local/lib/python3.10/dist-packages (from requests>=2.20->openai==0.28) (2.2.3)\n",
            "Requirement already satisfied: certifi>=2017.4.17 in /usr/local/lib/python3.10/dist-packages (from requests>=2.20->openai==0.28) (2024.12.14)\n",
            "Requirement already satisfied: aiohappyeyeballs>=2.3.0 in /usr/local/lib/python3.10/dist-packages (from aiohttp->openai==0.28) (2.4.4)\n",
            "Requirement already satisfied: aiosignal>=1.1.2 in /usr/local/lib/python3.10/dist-packages (from aiohttp->openai==0.28) (1.3.2)\n",
            "Requirement already satisfied: async-timeout<6.0,>=4.0 in /usr/local/lib/python3.10/dist-packages (from aiohttp->openai==0.28) (4.0.3)\n",
            "Requirement already satisfied: attrs>=17.3.0 in /usr/local/lib/python3.10/dist-packages (from aiohttp->openai==0.28) (24.3.0)\n",
            "Requirement already satisfied: frozenlist>=1.1.1 in /usr/local/lib/python3.10/dist-packages (from aiohttp->openai==0.28) (1.5.0)\n",
            "Requirement already satisfied: multidict<7.0,>=4.5 in /usr/local/lib/python3.10/dist-packages (from aiohttp->openai==0.28) (6.1.0)\n",
            "Requirement already satisfied: propcache>=0.2.0 in /usr/local/lib/python3.10/dist-packages (from aiohttp->openai==0.28) (0.2.1)\n",
            "Requirement already satisfied: yarl<2.0,>=1.17.0 in /usr/local/lib/python3.10/dist-packages (from aiohttp->openai==0.28) (1.18.3)\n",
            "Requirement already satisfied: typing-extensions>=4.1.0 in /usr/local/lib/python3.10/dist-packages (from multidict<7.0,>=4.5->aiohttp->openai==0.28) (4.12.2)\n",
            "Downloading openai-0.28.0-py3-none-any.whl (76 kB)\n",
            "\u001b[?25l   \u001b[90m━━━━━━━━━━━━━━━━━━━━━━━━━━━━━━━━━━━━━━━━\u001b[0m \u001b[32m0.0/76.5 kB\u001b[0m \u001b[31m?\u001b[0m eta \u001b[36m-:--:--\u001b[0m\r\u001b[2K   \u001b[90m━━━━━━━━━━━━━━━━━━━━━━━━━━━━━━━━━━━━━━━━\u001b[0m \u001b[32m76.5/76.5 kB\u001b[0m \u001b[31m3.6 MB/s\u001b[0m eta \u001b[36m0:00:00\u001b[0m\n",
            "\u001b[?25hInstalling collected packages: openai\n",
            "  Attempting uninstall: openai\n",
            "    Found existing installation: openai 1.57.4\n",
            "    Uninstalling openai-1.57.4:\n",
            "      Successfully uninstalled openai-1.57.4\n",
            "Successfully installed openai-0.28.0\n"
          ]
        }
      ]
    },
    {
      "cell_type": "code",
      "source": [
        "from google.colab import drive\n",
        "drive.mount('/content/drive')"
      ],
      "metadata": {
        "colab": {
          "base_uri": "https://localhost:8080/"
        },
        "id": "SF7wcgi6sQVr",
        "outputId": "9272eef7-fd0b-4c3c-e921-98073a8129af"
      },
      "execution_count": null,
      "outputs": [
        {
          "output_type": "stream",
          "name": "stdout",
          "text": [
            "Mounted at /content/drive\n"
          ]
        }
      ]
    },
    {
      "cell_type": "markdown",
      "metadata": {
        "id": "e7d620f6"
      },
      "source": [
        "## 1. Lectura de la API Key"
      ]
    },
    {
      "cell_type": "code",
      "source": [
        "import openai\n",
        "\n",
        "with open(\"/content/drive/MyDrive/api-keys/API_openAI.txt\") as f:\n",
        "  openai.api_key = f.readline()"
      ],
      "metadata": {
        "id": "pVplMtLdUx2w"
      },
      "execution_count": null,
      "outputs": []
    },
    {
      "cell_type": "markdown",
      "source": [
        "## 2. Selección del modelo"
      ],
      "metadata": {
        "id": "kjNFCLMHWCXs"
      }
    },
    {
      "cell_type": "markdown",
      "source": [
        "OpenAI nos ofrece una amplia variedad de modelos que podemos utilizar de manera programática para diferentes tareas.\n",
        "\n",
        "Nosotros estamos interesados en LLMs específicamente entrenados para entender lenguaje natural e interactuar con el usuario en forma de chat.\n",
        "\n",
        "Para este caso práctico se selecciona `gpt-3.5-turbo` poor una cuestión de eficiencia"
      ],
      "metadata": {
        "id": "OP3Zs5O1WHER"
      }
    },
    {
      "cell_type": "code",
      "source": [
        "def obtener_completion(prompt, temperatura=1, top_p=1, frequency_penalty=0.0, model=\"gpt-3.5-turbo\"):    # se definen los hiperparámetros para poder modificar sus valores\n",
        "  mensaje = [{\"role\": \"user\", \"content\": prompt}]\n",
        "  respuesta = openai.ChatCompletion.create(\n",
        "      model=model,\n",
        "      messages=mensaje,\n",
        "      temperature=temperatura,\n",
        "      top_p=top_p,\n",
        "      frequency_penalty=frequency_penalty\n",
        "  )\n",
        "  return respuesta.choices[0].message[\"content\"]"
      ],
      "metadata": {
        "id": "dkxOGRD-WF3p"
      },
      "execution_count": null,
      "outputs": []
    },
    {
      "cell_type": "markdown",
      "source": [
        "## 3. Temperatura  (probablemente el hiperparámetro más importante)"
      ],
      "metadata": {
        "id": "Ej2wP15VXrPY"
      }
    },
    {
      "cell_type": "markdown",
      "source": [
        "La `temperatura` controla la aleatoriedad de las respuestas generadas. Una temperatura más baja (por ejemplo, 0.2) hace que las respuestas sean más coherentes y predecibles, mientras que una temperatura más alta (por ejemplo, 0.8) hace que las respuestas sean más creativas y diversas, pero también pueden ser menos precisas."
      ],
      "metadata": {
        "id": "i-GLW0Lt9LQQ"
      }
    },
    {
      "cell_type": "code",
      "source": [
        "review=\"\"\"\n",
        "Sinceramente me ha cambiado la vida, vivo en una casa con diferentes plantas y compré dos altavoces inteligentes, uno para el salón y otro para mi habitación y \\\n",
        "para comunicarnos mis padres y yo de una planta a otra y no tener que estar gritando es lo mejor, es muy rapida he inteligente. La compre \\\n",
        "junto con unos enchufes y funciona de maravilla es genial. El altavoz para escuchar musica es muy potente y si tienes dos ( como es mi caso) \\\n",
        "se pueden sincronizar y escuchar musica por todas partes! Se conecta rapido al móvil, a la televisión y contesta a prácticamente todo.\n",
        "Con lo unico que he tenido fallo ha sido con alguna alarma que he programado y no ha sonado, por el resto todo genial, ahora cuando programo \\\n",
        "una alarma o pongo dos o compruebo con la app.\n",
        "\"\"\"\n",
        "sentimiento=\"positivo\""
      ],
      "metadata": {
        "id": "dGe9ql6z9yzi"
      },
      "execution_count": null,
      "outputs": []
    },
    {
      "cell_type": "code",
      "source": [
        "prompt = f\"\"\"\n",
        "Eres una IA asistente de atención al cliente.\n",
        "Tu tarea es enviar una respuesta por correo electrónico a un valioso cliente.\n",
        "Dado el correo electrónico del cliente delimitado por ```, \\\n",
        "Genera una respuesta para agradecer al cliente por su reseña.\n",
        "Si el sentimiento es positivo o neutral, agradéceles por \\\n",
        "su reseña.\n",
        "Si el sentimiento es negativo, discúlpate y sugiere que \\\n",
        "pueden comunicarse con el servicio al cliente.\n",
        "Asegúrate de usar detalles específicos de la reseña.\n",
        "Escribe en un tono conciso y profesional.\n",
        "Firma el correo electrónico como `Agente de atención al cliente de IA`.\n",
        "Reseña del cliente: ```{review}```\n",
        "Sentimiento de la reseña: {sentimiento}\n",
        "\"\"\""
      ],
      "metadata": {
        "id": "3xxWZfkx9ItH"
      },
      "execution_count": null,
      "outputs": []
    },
    {
      "cell_type": "code",
      "source": [
        "respuesta = obtener_completion(prompt, temperatura=0)"
      ],
      "metadata": {
        "id": "flnGoDmiZBbV"
      },
      "execution_count": null,
      "outputs": []
    },
    {
      "cell_type": "code",
      "source": [
        "print(respuesta)"
      ],
      "metadata": {
        "id": "GDOadRuBZJWp",
        "colab": {
          "base_uri": "https://localhost:8080/"
        },
        "outputId": "463ed578-44e3-42a3-e64f-9f69cecf3344"
      },
      "execution_count": null,
      "outputs": [
        {
          "output_type": "stream",
          "name": "stdout",
          "text": [
            "Estimado cliente,\n",
            "\n",
            "Gracias por tomarse el tiempo de dejarnos una reseña tan detallada y positiva sobre su experiencia con nuestros altavoces inteligentes. Nos alegra saber que han sido de gran utilidad en su hogar y que han mejorado la comunicación con su familia de manera tan efectiva.\n",
            "\n",
            "Lamentamos escuchar sobre el inconveniente con las alarmas, pero nos alegra saber que en general ha quedado satisfecho con su compra y que ha podido disfrutar de todas las funciones que ofrecen nuestros productos.\n",
            "\n",
            "Si en el futuro necesita ayuda adicional o tiene alguna otra pregunta, no dude en comunicarse con nuestro servicio de atención al cliente. Estamos aquí para ayudarle en todo lo que necesite.\n",
            "\n",
            "Gracias nuevamente por su reseña positiva y por confiar en nuestros productos.\n",
            "\n",
            "Atentamente,\n",
            "Agente de atención al cliente de IA\n"
          ]
        }
      ]
    },
    {
      "cell_type": "code",
      "source": [
        "respuesta2 = obtener_completion(prompt, temperatura=1)"
      ],
      "metadata": {
        "id": "hCibX33Yafdb"
      },
      "execution_count": null,
      "outputs": []
    },
    {
      "cell_type": "code",
      "source": [
        "print(respuesta2)"
      ],
      "metadata": {
        "colab": {
          "base_uri": "https://localhost:8080/"
        },
        "id": "z3QNWOUbahPR",
        "outputId": "14ea7289-844b-49e4-f76c-745af9b6512a"
      },
      "execution_count": null,
      "outputs": [
        {
          "output_type": "stream",
          "name": "stdout",
          "text": [
            "Estimado cliente,\n",
            "\n",
            "Queremos agradecerle sinceramente por tomarse el tiempo de dejarnos una reseña tan positiva y detallada. Nos alegra saber que nuestros altavoces inteligentes han sido de gran utilidad en su hogar y que ha notado la rapidez y inteligencia en su funcionamiento.\n",
            "\n",
            "Nos alegra especialmente saber que la opción de comunicación entre plantas ha sido de gran beneficio para usted y su familia, así como la calidad del sonido y la sincronización de los altavoces. También le agradecemos por mencionar la facilidad de conexión con diferentes dispositivos.\n",
            "\n",
            "Lamentamos escuchar sobre el problema con algunas alarmas, pero agradecemos su comprensión y confianza en nuestro servicio. Si experimenta alguna dificultad adicional, no dude en comunicarse con nuestro equipo de servicio al cliente para recibir asistencia inmediata.\n",
            "\n",
            "¡Gracias nuevamente por su reseña positiva y por su confianza en nuestros productos! Estamos aquí para brindarle el mejor soporte en todo momento.\n",
            "\n",
            "Atentamente,\n",
            "Agente de atención al cliente de IA\n"
          ]
        }
      ]
    },
    {
      "cell_type": "markdown",
      "source": [
        "\n",
        "\n",
        "## 4. Top_p"
      ],
      "metadata": {
        "id": "yn9h6bpX_rLl"
      }
    },
    {
      "cell_type": "markdown",
      "source": [
        "El valor de `top_p` se establece en un rango entre 0 y 1, donde representa una fracción acumulativa de probabilidad. Si estableces `top_p` en un valor, el modelo calculará las palabras más probables en función de ese valor y generará texto en función de esas palabras. Por ejemplo, si estableces `top_p` en 0.8, el modelo seleccionará las palabras que representan el 80% de la probabilidad acumulativa en lugar de considerar todas las palabras posibles."
      ],
      "metadata": {
        "id": "uU4JyoZV_1PT"
      }
    },
    {
      "cell_type": "code",
      "source": [
        "respuesta = obtener_completion(prompt, temperatura=1, top_p=0.5)"
      ],
      "metadata": {
        "id": "gs7k6GoV_wIK"
      },
      "execution_count": null,
      "outputs": []
    },
    {
      "cell_type": "code",
      "source": [
        "print(respuesta)"
      ],
      "metadata": {
        "id": "bRrJTysP_u90",
        "colab": {
          "base_uri": "https://localhost:8080/"
        },
        "outputId": "db3dd2b9-ea60-473e-f6f1-dfef8a46b3ca"
      },
      "execution_count": null,
      "outputs": [
        {
          "output_type": "stream",
          "name": "stdout",
          "text": [
            "Estimado cliente,\n",
            "\n",
            "Gracias por tomarse el tiempo de dejarnos una reseña tan detallada y positiva sobre su experiencia con nuestros altavoces inteligentes. Nos alegra saber que han sido de gran utilidad en su hogar y que han mejorado la comunicación con su familia de manera tan efectiva.\n",
            "\n",
            "Lamentamos escuchar sobre el inconveniente con las alarmas, pero nos alegra saber que en general ha disfrutado de todas las funciones y beneficios que ofrecen nuestros productos.\n",
            "\n",
            "Agradecemos sinceramente su confianza en nuestra marca y esperamos seguir satisfaciendo sus necesidades en el futuro. No dude en contactar con nuestro servicio al cliente si necesita alguna asistencia adicional.\n",
            "\n",
            "Atentamente,\n",
            "Agente de atención al cliente de IA\n"
          ]
        }
      ]
    },
    {
      "cell_type": "code",
      "source": [
        "respuesta2 = obtener_completion(prompt, temperatura=0, top_p=0.2)"
      ],
      "metadata": {
        "id": "5c9jfy3fbBHO"
      },
      "execution_count": null,
      "outputs": []
    },
    {
      "cell_type": "code",
      "source": [
        "print(respuesta2)"
      ],
      "metadata": {
        "colab": {
          "base_uri": "https://localhost:8080/"
        },
        "id": "VWXQXMRkbBW7",
        "outputId": "02051b90-2966-4212-dcb7-f160685db242"
      },
      "execution_count": null,
      "outputs": [
        {
          "output_type": "stream",
          "name": "stdout",
          "text": [
            "Estimado cliente,\n",
            "\n",
            "Gracias por tomarte el tiempo de dejarnos tu reseña. Nos alegra saber que nuestros altavoces inteligentes han cambiado tu vida y han facilitado la comunicación en tu hogar. Nos enorgullece saber que has disfrutado de la potencia del altavoz para escuchar música y la facilidad de sincronización entre dos altavoces.\n",
            "\n",
            "Lamentamos mucho los inconvenientes que hayas experimentado con alguna alarma que no ha sonado correctamente. Agradecemos tu feedback y tomaremos en cuenta tus comentarios para seguir mejorando nuestros productos y servicios.\n",
            "\n",
            "Si necesitas ayuda adicional o tienes alguna otra pregunta, no dudes en comunicarte con nuestro servicio al cliente. Estamos aquí para ayudarte en todo lo que necesites.\n",
            "\n",
            "Gracias nuevamente por tu reseña positiva y por confiar en nuestros productos.\n",
            "\n",
            "Atentamente,\n",
            "Agente de atención al cliente de IA\n"
          ]
        }
      ]
    },
    {
      "cell_type": "markdown",
      "source": [
        "# 5. Frecuency_penalty"
      ],
      "metadata": {
        "id": "K1EnO5gYdg76"
      }
    },
    {
      "cell_type": "markdown",
      "source": [
        "Número entre -2.0 y 2.0. Los valores positivos penalizan los nuevos tokens en función de su frecuencia existente en el texto hasta ese momento, disminuyendo la probabilidad del modelo de repetir la misma línea de manera idéntica."
      ],
      "metadata": {
        "id": "XLHjp5PRDzWM"
      }
    },
    {
      "cell_type": "code",
      "source": [
        "respuesta = obtener_completion(prompt, frequency_penalty=0.0)    # Se suele utilizar en 0.0"
      ],
      "metadata": {
        "id": "uTHII89GBG_Q"
      },
      "execution_count": null,
      "outputs": []
    },
    {
      "cell_type": "code",
      "source": [
        "print(respuesta)"
      ],
      "metadata": {
        "id": "SNskS8HKBIde",
        "colab": {
          "base_uri": "https://localhost:8080/"
        },
        "outputId": "ef17eb28-f759-4600-c7c9-ede7ae747e4d"
      },
      "execution_count": null,
      "outputs": [
        {
          "output_type": "stream",
          "name": "stdout",
          "text": [
            "Estimado cliente,\n",
            "\n",
            "Agradecemos sinceramente su reseña positiva sobre nuestros altavoces inteligentes. Nos complace saber que nuestro producto ha sido de gran utilidad en su hogar, facilitando la comunicación y la experiencia auditiva. Nos alegra especialmente saber que ha encontrado la sincronización de los altavoces y su potencia musical muy satisfactorias.\n",
            "\n",
            "Lamentamos los inconvenientes con las alarmas programadas, pero estamos comprometidos en mejorar constantemente nuestra tecnología para brindarle la mejor experiencia posible. Si necesita asistencia adicional, no dude en comunicarse con nuestro servicio al cliente.\n",
            "\n",
            "Agradecemos nuevamente por su feedback positivo y su confianza en nuestros productos.\n",
            "\n",
            "Atentamente,\n",
            "Agente de atención al cliente de IA\n"
          ]
        }
      ]
    },
    {
      "cell_type": "code",
      "source": [
        "respuesta2 = obtener_completion(prompt, frequency_penalty=1.0)"
      ],
      "metadata": {
        "id": "toEXZs7Vb3gh"
      },
      "execution_count": null,
      "outputs": []
    },
    {
      "cell_type": "code",
      "source": [
        "print(respuesta2)"
      ],
      "metadata": {
        "colab": {
          "base_uri": "https://localhost:8080/"
        },
        "id": "ZcdkQGMEb381",
        "outputId": "5a5e2925-3da6-4614-a1c0-468bac62cf2b"
      },
      "execution_count": null,
      "outputs": [
        {
          "output_type": "stream",
          "name": "stdout",
          "text": [
            "Estimado cliente,\n",
            "\n",
            "Agradecemos sinceramente su reseña positiva sobre nuestros altavoces inteligentes. Nos llena de alegría saber que han sido de gran ayuda y han mejorado su vida en casa. Nos complace saber que ha encontrado útiles las funciones de comunicación y la calidad del sonido de los altavoces.\n",
            "\n",
            "Lamentamos escuchar que ha experimentado algún problema con las alarmas, pero le agradecemos por señalarlo. Sus comentarios nos ayudan a mejorar constantemente nuestros productos y servicios.\n",
            "\n",
            "Si tiene alguna otra pregunta o inquietud, no dude en comunicarse con nuestro servicio al cliente para una asistencia más personalizada.\n",
            "\n",
            "Agente de atención al cliente de IA\n"
          ]
        }
      ]
    },
    {
      "cell_type": "markdown",
      "source": [
        "# Conclusión"
      ],
      "metadata": {
        "id": "xSXp_JnDcgBe"
      }
    },
    {
      "cell_type": "markdown",
      "source": [
        "Es importante conocer lo más profundo posible los hiperparámetros 'Temperatura' y 'Top_p' porque realmente cambian el comportamiento del LLM de manera significativa. Mientras que 'Frequency_penalty' es un hiperparámetro que no suele tener tanta influencia como los dos anteriores pero es necesario tenerlo en cuenta."
      ],
      "metadata": {
        "id": "SvZwKkI_cgCo"
      }
    }
  ]
}